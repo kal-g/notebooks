{
 "cells": [
  {
   "cell_type": "code",
   "execution_count": null,
   "id": "affiliated-graphic",
   "metadata": {},
   "outputs": [],
   "source": []
  },
  {
   "cell_type": "code",
   "execution_count": 18,
   "id": "loved-casting",
   "metadata": {},
   "outputs": [],
   "source": [
    "import requests, json, re\n",
    "from bs4 import BeautifulSoup\n",
    "import pandas as pd\n",
    "from tqdm import tqdm\n",
    "\n",
    "class DomainPostcodeScraper:\n",
    "    def __init__(self, postcode):\n",
    "        self.postcode = postcode\n",
    "\n",
    "    def getIDs(self):\n",
    "        # First, check our local cache for values\n",
    "        # If we have values, return\n",
    "        # Else, scrape and write out\n",
    "        \n",
    "    def scrapeIDs(self):\n",
    "        page = 1\n",
    "        ids = []\n",
    "        with tqdm() as pbar:\n",
    "            while True:\n",
    "                source = requests.get(self.getURL(page))\n",
    "                soup = BeautifulSoup(source.content, 'html.parser')\n",
    "                finishedScraping = len(soup.find_all(\"h3\", class_=\"css-1c8ubmt\")) > 0\n",
    "                if finishedScraping:\n",
    "                    break\n",
    "                urls = set(re.findall( r'https://www.domain.com.au/[\\d\\w-]*\\d{10}', str(soup)))\n",
    "                idsOnPage = sorted([int(u[-10:]) for u in urls])\n",
    "                ids += idsOnPage\n",
    "                page+=1\n",
    "                pbar.update(1)\n",
    "        df = pd.DataFrame({'id':ids}).set_index('id')\n",
    "        return df\n",
    "        \n",
    "    def getURL(self, page=1):\n",
    "        return f'https://www.domain.com.au/sale/?excludeunderoffer=1&sort=dateupdated-desc&postcode={self.postcode}&page={page}'\n",
    "        \n",
    "    def getPostCodeNum(self) -> int:\n",
    "        source = requests.get(self.getURL())\n",
    "        soup = BeautifulSoup(source.content, 'html.parser')\n",
    "        numProperties = int(str(soup.find_all('title')[0]).split()[0])\n",
    "        print(soup.find_all(\"h3\", class_=\"css-1c8ubmt\"))\n",
    "        return numProperties"
   ]
  },
  {
   "cell_type": "code",
   "execution_count": 19,
   "id": "homeless-rehabilitation",
   "metadata": {},
   "outputs": [
    {
     "name": "stderr",
     "output_type": "stream",
     "text": [
      "17it [00:09,  1.82it/s]\n"
     ]
    }
   ],
   "source": [
    "ids = DomainPostcodeScraper(2000).scrapeIDs()"
   ]
  },
  {
   "cell_type": "code",
   "execution_count": 21,
   "id": "opened-inquiry",
   "metadata": {},
   "outputs": [
    {
     "data": {
      "text/html": [
       "<div>\n",
       "<style scoped>\n",
       "    .dataframe tbody tr th:only-of-type {\n",
       "        vertical-align: middle;\n",
       "    }\n",
       "\n",
       "    .dataframe tbody tr th {\n",
       "        vertical-align: top;\n",
       "    }\n",
       "\n",
       "    .dataframe thead th {\n",
       "        text-align: right;\n",
       "    }\n",
       "</style>\n",
       "<table border=\"1\" class=\"dataframe\">\n",
       "  <thead>\n",
       "    <tr style=\"text-align: right;\">\n",
       "      <th></th>\n",
       "    </tr>\n",
       "    <tr>\n",
       "      <th>id</th>\n",
       "    </tr>\n",
       "  </thead>\n",
       "  <tbody>\n",
       "    <tr>\n",
       "      <th>2013712281</th>\n",
       "    </tr>\n",
       "    <tr>\n",
       "      <th>2013712288</th>\n",
       "    </tr>\n",
       "    <tr>\n",
       "      <th>2013712319</th>\n",
       "    </tr>\n",
       "    <tr>\n",
       "      <th>2013733407</th>\n",
       "    </tr>\n",
       "    <tr>\n",
       "      <th>2014606878</th>\n",
       "    </tr>\n",
       "    <tr>\n",
       "      <th>...</th>\n",
       "    </tr>\n",
       "    <tr>\n",
       "      <th>2014587391</th>\n",
       "    </tr>\n",
       "    <tr>\n",
       "      <th>2014687136</th>\n",
       "    </tr>\n",
       "    <tr>\n",
       "      <th>2014734846</th>\n",
       "    </tr>\n",
       "    <tr>\n",
       "      <th>2014761577</th>\n",
       "    </tr>\n",
       "    <tr>\n",
       "      <th>2014809078</th>\n",
       "    </tr>\n",
       "  </tbody>\n",
       "</table>\n",
       "<p>340 rows × 0 columns</p>\n",
       "</div>"
      ],
      "text/plain": [
       "Empty DataFrame\n",
       "Columns: []\n",
       "Index: [2013712281, 2013712288, 2013712319, 2013733407, 2014606878, 2016857160, 2016857289, 2016857574, 2016862119, 2016863789, 2016864648, 2016865744, 2016867557, 2016867674, 2016873311, 2016873372, 2016876870, 2016878631, 2016878806, 2016879568, 2016879603, 2016879624, 2016880008, 2013555163, 2014516490, 2015672860, 2015929745, 2016531561, 2016777661, 2016830985, 2016835327, 2016836227, 2016836807, 2016839765, 2016840855, 2016841101, 2016847409, 2016849180, 2016850092, 2016852311, 2016853790, 2016854320, 2016856525, 2015956531, 2016584846, 2016798458, 2016800821, 2016803792, 2016807562, 2016809401, 2016811967, 2016812046, 2016814416, 2016816048, 2016817308, 2016818832, 2016820070, 2016824563, 2016825486, 2016826828, 2016827758, 2016827929, 2016829637, 2007784101, 2014985861, 2016779597, 2016779703, 2016781549, 2016782456, 2016782714, 2016783024, 2016784002, 2016784827, 2016786581, 2016786683, 2016786995, 2016791845, 2016793780, 2016793902, 2016794041, 2016794082, 2016794115, 2016794122, 2014419749, 2014559949, 2015922699, 2016589620, 2016754248, 2016755463, 2016755931, 2016756747, 2016762387, 2016771338, 2016772279, 2016772791, 2016773140, 2016773571, 2016774895, 2016775154, 2016776462, ...]\n",
       "\n",
       "[340 rows x 0 columns]"
      ]
     },
     "execution_count": 21,
     "metadata": {},
     "output_type": "execute_result"
    }
   ],
   "source": [
    "ids"
   ]
  },
  {
   "cell_type": "code",
   "execution_count": null,
   "id": "utility-parallel",
   "metadata": {},
   "outputs": [],
   "source": []
  }
 ],
 "metadata": {
  "kernelspec": {
   "display_name": "Python 3",
   "language": "python",
   "name": "python3"
  },
  "language_info": {
   "codemirror_mode": {
    "name": "ipython",
    "version": 3
   },
   "file_extension": ".py",
   "mimetype": "text/x-python",
   "name": "python",
   "nbconvert_exporter": "python",
   "pygments_lexer": "ipython3",
   "version": "3.6.13"
  }
 },
 "nbformat": 4,
 "nbformat_minor": 5
}
