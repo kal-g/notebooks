{
 "cells": [
  {
   "cell_type": "code",
   "execution_count": 13,
   "id": "reserved-crash",
   "metadata": {},
   "outputs": [],
   "source": [
    "import requests\n",
    "from bs4 import BeautifulSoup"
   ]
  },
  {
   "cell_type": "code",
   "execution_count": 5,
   "id": "judicial-modeling",
   "metadata": {},
   "outputs": [],
   "source": [
    "url = \"https://www.realestate.com.au/listsearchview.ds?where=2000\""
   ]
  },
  {
   "cell_type": "code",
   "execution_count": 10,
   "id": "sixth-variety",
   "metadata": {},
   "outputs": [],
   "source": [
    "url = \"https://www.realestate.com.au/buy/in-nsw+2000%3b/list-1?includeSurrounding=false\""
   ]
  },
  {
   "cell_type": "code",
   "execution_count": 11,
   "id": "binary-flooring",
   "metadata": {},
   "outputs": [],
   "source": [
    "from selenium import webdriver\n",
    "from selenium.webdriver.common.keys import Keys\n",
    "from selenium.webdriver.chrome.options import Options\n",
    "\n",
    "opts = Options()\n",
    "opts.add_argument(\"user-agent=Mozilla/5.0 (Macintosh; Intel Mac OS X 10_15_7) AppleWebKit/537.36 (KHTML, like Gecko) Chrome/89.0.4389.90 Safari/537.36\")\n",
    "\n",
    "\n",
    "browser = webdriver.Chrome()\n",
    "browser.get(url)\n",
    "source = browser.page_source"
   ]
  },
  {
   "cell_type": "code",
   "execution_count": null,
   "id": "innocent-biography",
   "metadata": {},
   "outputs": [],
   "source": []
  },
  {
   "cell_type": "code",
   "execution_count": null,
   "id": "floating-gather",
   "metadata": {},
   "outputs": [],
   "source": []
  }
 ],
 "metadata": {
  "kernelspec": {
   "display_name": "Python 3",
   "language": "python",
   "name": "python3"
  },
  "language_info": {
   "codemirror_mode": {
    "name": "ipython",
    "version": 3
   },
   "file_extension": ".py",
   "mimetype": "text/x-python",
   "name": "python",
   "nbconvert_exporter": "python",
   "pygments_lexer": "ipython3",
   "version": "3.6.13"
  }
 },
 "nbformat": 4,
 "nbformat_minor": 5
}
