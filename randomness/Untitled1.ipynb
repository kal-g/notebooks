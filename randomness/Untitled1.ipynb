{
 "cells": [
  {
   "cell_type": "markdown",
   "id": "d478db0a",
   "metadata": {},
   "source": [
    "# Biased Coin Flip"
   ]
  },
  {
   "cell_type": "markdown",
   "id": "64a96f72",
   "metadata": {},
   "source": [
    "Assume the following gamble\n",
    "- A 55% probability of doubling your money\n",
    "- A 45% probability of losing\n",
    "\n",
    "How many times should you take the bet?\n",
    "\n",
    "According to the EV:"
   ]
  },
  {
   "cell_type": "code",
   "execution_count": 1,
   "id": "0cf88878",
   "metadata": {},
   "outputs": [
    {
     "data": {
      "text/plain": [
       "1.1"
      ]
     },
     "execution_count": 1,
     "metadata": {},
     "output_type": "execute_result"
    }
   ],
   "source": [
    "ev = 0.55 * 2 + 0.45 * 0\n",
    "ev"
   ]
  },
  {
   "cell_type": "markdown",
   "id": "12bb413b",
   "metadata": {},
   "source": [
    "Your expected value is always positive. According to economics, you should always take this bet. This is not an accurate statement probabilistically, but is the kind of poor application of probability seen in many economic papers. Most famously, Thomas Piketty's central argument is based on this kind of misunderstanding of ergodicity.\n",
    "\n",
    "Let's show why using some basic simulations"
   ]
  },
  {
   "cell_type": "markdown",
   "id": "55e30949",
   "metadata": {},
   "source": [
    "## Simulation"
   ]
  },
  {
   "cell_type": "code",
   "execution_count": 14,
   "id": "78d4b8a5",
   "metadata": {},
   "outputs": [],
   "source": [
    "import numpy as np\n",
    "from numba import njit\n",
    "import matplotlib.pyplot as plt\n",
    "import scipy.stats as stats"
   ]
  },
  {
   "cell_type": "code",
   "execution_count": 15,
   "id": "e09c9f30",
   "metadata": {},
   "outputs": [],
   "source": [
    "np.random.seed(42)"
   ]
  },
  {
   "cell_type": "code",
   "execution_count": 16,
   "id": "02cb7848",
   "metadata": {},
   "outputs": [],
   "source": [
    "numberOfPeople = 1000000\n",
    "numberOfDays = 10"
   ]
  },
  {
   "cell_type": "code",
   "execution_count": 35,
   "id": "f331986b",
   "metadata": {},
   "outputs": [],
   "source": [
    "@njit\n",
    "def doCoinFlip(successProb):\n",
    "    if np.random.uniform(0.0, 1.0) < successProb:\n",
    "        return True\n",
    "    return False"
   ]
  },
  {
   "cell_type": "code",
   "execution_count": 18,
   "id": "18017ff7",
   "metadata": {},
   "outputs": [],
   "source": [
    "def runPerson(successProb):\n",
    "    val = 1.0\n",
    "    for i in range(numberOfDays):\n",
    "        if doCoinFlip(successProb):\n",
    "            val *= 2\n",
    "        else:\n",
    "            return 0\n",
    "    return val"
   ]
  },
  {
   "cell_type": "code",
   "execution_count": 19,
   "id": "461241e5",
   "metadata": {},
   "outputs": [],
   "source": [
    "def runExperiment(successProb):\n",
    "    data = []\n",
    "    for i in range(numberOfPeople):\n",
    "        data.append(runPerson(successProb))\n",
    "    return np.array(data)"
   ]
  },
  {
   "cell_type": "code",
   "execution_count": 20,
   "id": "23984cfa",
   "metadata": {},
   "outputs": [],
   "source": [
    "data55 = runExperiment(0.55)"
   ]
  },
  {
   "cell_type": "code",
   "execution_count": 21,
   "id": "ef959353",
   "metadata": {},
   "outputs": [],
   "source": [
    "def doCoinFlip(successProb):\n",
    "    if numpy.random.uniform() < successProb:\n",
    "        return True\n",
    "    return False"
   ]
  },
  {
   "cell_type": "markdown",
   "id": "c3de5811",
   "metadata": {},
   "source": [
    "If we were to naively take the mean:"
   ]
  },
  {
   "cell_type": "code",
   "execution_count": 22,
   "id": "12853bd7",
   "metadata": {},
   "outputs": [
    {
     "data": {
      "text/plain": [
       "2.642944"
      ]
     },
     "execution_count": 22,
     "metadata": {},
     "output_type": "execute_result"
    }
   ],
   "source": [
    "data55.mean()"
   ]
  },
  {
   "cell_type": "markdown",
   "id": "cb8940c5",
   "metadata": {},
   "source": [
    "This would still look like a good bet. On average, you more than double your money if you take the bet 10 times. But let's look a the histogram"
   ]
  },
  {
   "cell_type": "code",
   "execution_count": 23,
   "id": "8e68c463",
   "metadata": {},
   "outputs": [
    {
     "data": {
      "text/plain": [
       "997419"
      ]
     },
     "execution_count": 23,
     "metadata": {},
     "output_type": "execute_result"
    }
   ],
   "source": [
    "data55[data55<1].size"
   ]
  },
  {
   "cell_type": "code",
   "execution_count": null,
   "id": "5779a24d",
   "metadata": {},
   "outputs": [],
   "source": []
  },
  {
   "cell_type": "code",
   "execution_count": 24,
   "id": "75a95e81",
   "metadata": {},
   "outputs": [
    {
     "data": {
      "text/plain": [
       "(array([997419.,      0.,      0.,      0.,      0.,      0.,      0.,\n",
       "             0.,      0.,   2581.]),\n",
       " array([   0. ,  102.4,  204.8,  307.2,  409.6,  512. ,  614.4,  716.8,\n",
       "         819.2,  921.6, 1024. ]),\n",
       " <BarContainer object of 10 artists>)"
      ]
     },
     "execution_count": 24,
     "metadata": {},
     "output_type": "execute_result"
    },
    {
     "data": {
      "image/png": "[encoded data removed]",
      "text/plain": [
       "<Figure size 432x288 with 1 Axes>"
      ]
     },
     "metadata": {
      "needs_background": "light"
     },
     "output_type": "display_data"
    }
   ],
   "source": [
    "plt.hist(data55)"
   ]
  },
  {
   "cell_type": "code",
   "execution_count": 25,
   "id": "621bc1f1",
   "metadata": {},
   "outputs": [
    {
     "data": {
      "text/plain": [
       "0.997419"
      ]
     },
     "execution_count": 25,
     "metadata": {},
     "output_type": "execute_result"
    }
   ],
   "source": [
    "data55[data55==0].size / data55.size"
   ]
  },
  {
   "cell_type": "code",
   "execution_count": 26,
   "id": "ef9842c1",
   "metadata": {},
   "outputs": [
    {
     "data": {
      "text/plain": [
       "2.642944"
      ]
     },
     "execution_count": 26,
     "metadata": {},
     "output_type": "execute_result"
    }
   ],
   "source": [
    "data55.mean()"
   ]
  },
  {
   "cell_type": "markdown",
   "id": "d96e5b78",
   "metadata": {},
   "source": [
    "The distribution overwhelmingly shows that you're most likely to lose your money"
   ]
  },
  {
   "cell_type": "code",
   "execution_count": 27,
   "id": "61af9d70",
   "metadata": {},
   "outputs": [
    {
     "data": {
      "text/plain": [
       "Ttest_1sampResult(statistic=12.374855980801982, pvalue=3.5966456813276403e-35)"
      ]
     },
     "execution_count": 27,
     "metadata": {},
     "output_type": "execute_result"
    }
   ],
   "source": [
    "stats.ttest_1samp(data55, 2)"
   ]
  },
  {
   "cell_type": "markdown",
   "id": "1a42ecda",
   "metadata": {},
   "source": [
    "## Better Odds?\n",
    " Even with much better odds:"
   ]
  },
  {
   "cell_type": "code",
   "execution_count": 36,
   "id": "07446422",
   "metadata": {},
   "outputs": [],
   "source": [
    "data85 = runExperiment(0.85)"
   ]
  },
  {
   "cell_type": "code",
   "execution_count": 37,
   "id": "afb65fa5",
   "metadata": {},
   "outputs": [
    {
     "data": {
      "text/plain": [
       "201.952256"
      ]
     },
     "execution_count": 37,
     "metadata": {},
     "output_type": "execute_result"
    }
   ],
   "source": [
    "data85.mean()"
   ]
  },
  {
   "cell_type": "code",
   "execution_count": 38,
   "id": "d550204d",
   "metadata": {},
   "outputs": [
    {
     "data": {
      "text/plain": [
       "(array([802781.,      0.,      0.,      0.,      0.,      0.,      0.,\n",
       "             0.,      0., 197219.]),\n",
       " array([   0. ,  102.4,  204.8,  307.2,  409.6,  512. ,  614.4,  716.8,\n",
       "         819.2,  921.6, 1024. ]),\n",
       " <BarContainer object of 10 artists>)"
      ]
     },
     "execution_count": 38,
     "metadata": {},
     "output_type": "execute_result"
    },
    {
     "data": {
      "image/png": "[encoded data removed]",
      "text/plain": [
       "<Figure size 432x288 with 1 Axes>"
      ]
     },
     "metadata": {
      "needs_background": "light"
     },
     "output_type": "display_data"
    }
   ],
   "source": [
    "plt.hist(data85)"
   ]
  },
  {
   "cell_type": "code",
   "execution_count": 39,
   "id": "4983b419",
   "metadata": {},
   "outputs": [
    {
     "data": {
      "text/plain": [
       "0.802781"
      ]
     },
     "execution_count": 39,
     "metadata": {},
     "output_type": "execute_result"
    }
   ],
   "source": [
    "data85[data85==0].size / data55.size"
   ]
  }
 ],
 "metadata": {
  "kernelspec": {
   "display_name": "Python 3",
   "language": "python",
   "name": "python3"
  },
  "language_info": {
   "codemirror_mode": {
    "name": "ipython",
    "version": 3
   },
   "file_extension": ".py",
   "mimetype": "text/x-python",
   "name": "python",
   "nbconvert_exporter": "python",
   "pygments_lexer": "ipython3",
   "version": "3.6.13"
  }
 },
 "nbformat": 4,
 "nbformat_minor": 5
}
