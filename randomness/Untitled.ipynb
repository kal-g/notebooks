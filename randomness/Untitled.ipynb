{
 "cells": [
  {
   "cell_type": "code",
   "execution_count": 4,
   "id": "twenty-pillow",
   "metadata": {},
   "outputs": [],
   "source": [
    "from numba import njit\n",
    "import random\n",
    "from itertools import accumulate\n",
    "import pandas as pd\n",
    "import matplotlib\n",
    "import plotly.express as px\n",
    "from scipy.stats import normaltest\n",
    "from math import floor\n",
    "import numpy as np"
   ]
  },
  {
   "cell_type": "code",
   "execution_count": 2,
   "id": "toxic-portland",
   "metadata": {},
   "outputs": [],
   "source": [
    "def getData(data_size, walk_size, f):\n",
    "    l = lambda i : f(walk_size)\n",
    "    walks = np.fromfunction(np.vectorize(l), (data_size,), dtype=int)\n",
    "    return pd.DataFrame({'walks':walks})"
   ]
  },
  {
   "cell_type": "markdown",
   "id": "romance-actor",
   "metadata": {},
   "source": [
    "## Simple Walk\n",
    "Generate 100000 [-1, 1] random walks of length 10000"
   ]
  },
  {
   "cell_type": "code",
   "execution_count": 71,
   "id": "banned-crime",
   "metadata": {},
   "outputs": [],
   "source": [
    "@njit\n",
    "def genWalkSumChoice(walkLen):\n",
    "    walk = np.random.rand(walkLen)\n",
    "    neg = walk < 0.5\n",
    "    walk[neg] = -1\n",
    "    walk[np.invert(neg)] = 1\n",
    "    return int(walk.sum())"
   ]
  },
  {
   "cell_type": "code",
   "execution_count": 72,
   "id": "saved-seafood",
   "metadata": {},
   "outputs": [],
   "source": [
    "bin_df = getData(100000, 10000, genWalkSumChoice)"
   ]
  },
  {
   "cell_type": "code",
   "execution_count": 74,
   "id": "reflected-analyst",
   "metadata": {},
   "outputs": [
    {
     "data": {
      "text/plain": [
       "<AxesSubplot:ylabel='Frequency'>"
      ]
     },
     "execution_count": 74,
     "metadata": {},
     "output_type": "execute_result"
    },
    {
     "data": {
      "image/png": "[encoded data removed]",
      "text/plain": [
       "<Figure size 432x288 with 1 Axes>"
      ]
     },
     "metadata": {
      "needs_background": "light"
     },
     "output_type": "display_data"
    }
   ],
   "source": [
    "bin_df.plot.hist(bins=20)"
   ]
  },
  {
   "cell_type": "code",
   "execution_count": 75,
   "id": "centered-lancaster",
   "metadata": {},
   "outputs": [
    {
     "data": {
      "text/plain": [
       "(2.585544566431844, 0.2745087113453905)"
      ]
     },
     "execution_count": 75,
     "metadata": {},
     "output_type": "execute_result"
    }
   ],
   "source": [
    "statistic, p = normaltest(bin_df['walks'])\n",
    "statistic, p"
   ]
  },
  {
   "cell_type": "markdown",
   "id": "operational-segment",
   "metadata": {},
   "source": [
    "## Walk with gaussian step\n",
    "Instead of a [-1, 1] step, generate a gaussian and use for the step"
   ]
  },
  {
   "cell_type": "code",
   "execution_count": 92,
   "id": "quality-freight",
   "metadata": {},
   "outputs": [],
   "source": [
    "@njit\n",
    "def genWalkSumGaussian(walkLen):\n",
    "    return np.random.normal(0, 5, walkLen).sum()"
   ]
  },
  {
   "cell_type": "code",
   "execution_count": 93,
   "id": "imperial-wound",
   "metadata": {},
   "outputs": [],
   "source": [
    "gauss_df = getData(100000, 10000, genWalkSumGaussian)"
   ]
  },
  {
   "cell_type": "code",
   "execution_count": 94,
   "id": "failing-express",
   "metadata": {},
   "outputs": [
    {
     "data": {
      "text/plain": [
       "<AxesSubplot:ylabel='Frequency'>"
      ]
     },
     "execution_count": 94,
     "metadata": {},
     "output_type": "execute_result"
    },
    {
     "data": {
      "image/png": "[encoded data removed]",
      "text/plain": [
       "<Figure size 432x288 with 1 Axes>"
      ]
     },
     "metadata": {
      "needs_background": "light"
     },
     "output_type": "display_data"
    }
   ],
   "source": [
    "gauss_df.plot.hist(bins=20)"
   ]
  },
  {
   "cell_type": "code",
   "execution_count": 99,
   "id": "tested-strike",
   "metadata": {},
   "outputs": [
    {
     "data": {
      "text/plain": [
       "(0.880059383134197, 0.6440172989164159)"
      ]
     },
     "execution_count": 99,
     "metadata": {},
     "output_type": "execute_result"
    }
   ],
   "source": [
    "statistic, p = normaltest(gauss_df['walks'])\n",
    "statistic, p"
   ]
  },
  {
   "cell_type": "code",
   "execution_count": 95,
   "id": "comparative-playlist",
   "metadata": {},
   "outputs": [],
   "source": [
    "pos = gauss_df[gauss_df['walks'] > 0]"
   ]
  },
  {
   "cell_type": "code",
   "execution_count": 96,
   "id": "disciplinary-river",
   "metadata": {},
   "outputs": [
    {
     "data": {
      "text/plain": [
       "<AxesSubplot:ylabel='Frequency'>"
      ]
     },
     "execution_count": 96,
     "metadata": {},
     "output_type": "execute_result"
    },
    {
     "data": {
      "image/png": "[encoded data removed]",
      "text/plain": [
       "<Figure size 432x288 with 1 Axes>"
      ]
     },
     "metadata": {
      "needs_background": "light"
     },
     "output_type": "display_data"
    }
   ],
   "source": [
    "pos.plot.hist()"
   ]
  },
  {
   "cell_type": "code",
   "execution_count": 97,
   "id": "according-notification",
   "metadata": {},
   "outputs": [],
   "source": [
    "def paretoRatiosForPercentile(df, perc):\n",
    "    n = 3\n",
    "    df = df.sort_values('walks', ascending=False)\n",
    "    descent_size = df.size\n",
    "    sums = []\n",
    "    sizes = []\n",
    "    for i in range(n + 1):\n",
    "        sums.append(df.head(n=descent_size)['walks'].sum())\n",
    "        sizes.append(descent_size)\n",
    "        descent_size  = floor(descent_size * perc)\n",
    "    return [sums[i+1] / sums[i] for i in range(n)]"
   ]
  },
  {
   "cell_type": "code",
   "execution_count": 98,
   "id": "current-world",
   "metadata": {},
   "outputs": [
    {
     "name": "stdout",
     "output_type": "stream",
     "text": [
      "0.05 [0.14648434382749814, 0.07076929514497875, 0.05711735166096258]\n",
      "0.06 [0.17063168988319152, 0.08483724415963714, 0.06654716012171295]\n",
      "0.07 [0.19387017317274347, 0.0987955490391424, 0.08322918622920465]\n",
      "0.08 [0.2162715976153444, 0.11274457289124992, 0.09399066535463099]\n",
      "0.09 [0.23799792046381413, 0.12656857927908266, 0.10727527773741616]\n",
      "0.1 [0.25907647239231607, 0.14027935616744974, 0.12130315866749787]\n",
      "0.11 [0.27952941054577685, 0.1539231878232287, 0.13304321537329836]\n",
      "0.12 [0.29942700203681644, 0.16753938375436356, 0.1461329854758623]\n",
      "0.13 [0.3187541167016799, 0.18122427835616564, 0.15815842764133023]\n",
      "0.14 [0.33756860081002804, 0.194714132817998, 0.1715855154767433]\n",
      "0.15 [0.35587185434969526, 0.20821014350097378, 0.1834560059551648]\n",
      "0.16 [0.3737393784782786, 0.22161905403409196, 0.19586477221847284]\n",
      "0.17 [0.39117563151462664, 0.23512477213406133, 0.20824673320168594]\n",
      "0.18 [0.40816415066529166, 0.248482313922273, 0.22062034605249953]\n",
      "0.19 [0.42479203544309224, 0.26179407949747674, 0.2333868451105251]\n",
      "0.2 [0.4410689231832466, 0.27507641643830744, 0.2455350403943056]\n",
      "0.21 [0.45698987771434857, 0.2884359768357009, 0.25748003494927785]\n",
      "0.22 [0.47255835111269096, 0.30164065450452243, 0.26985663892697187]\n",
      "0.23 [0.4878187023655855, 0.3147994685836473, 0.2818188885359391]\n",
      "0.24 [0.5027391481785412, 0.32807249916470543, 0.2937283271639376]\n",
      "0.25 [0.5173455164875936, 0.3411763970702266, 0.3055651127848779]\n",
      "0.26 [0.5316013792185731, 0.3542701000746151, 0.31713761291291465]\n",
      "0.27 [0.5455881582626023, 0.3673938402959326, 0.3290807740652727]\n",
      "0.28 [0.559288856186825, 0.3803686807447174, 0.34104750477883494]\n",
      "0.29 [0.5726838685193871, 0.39331891908455857, 0.3525725581930891]\n",
      "0.3 [0.5858430601058736, 0.40624859569182764, 0.364324990305266]\n",
      "0.31 [0.5987201556778073, 0.41905830185340165, 0.3761162816684266]\n",
      "0.32 [0.6113100872590842, 0.43192333877240413, 0.3877576665196613]\n",
      "0.33 [0.6236036404223251, 0.4446867293126242, 0.39951384861580314]\n",
      "0.34 [0.6356596080447288, 0.4574183298061475, 0.4110720271339583]\n",
      "0.35 [0.647470768056502, 0.4699880632048869, 0.4228638984130941]\n",
      "0.36 [0.6590033614233031, 0.4825358755213989, 0.4346857788009388]\n",
      "0.37 [0.6703102916809487, 0.4949367338631205, 0.44626508656225405]\n",
      "0.38 [0.6813781003594335, 0.5073251387989365, 0.45810664699518105]\n",
      "0.39 [0.6922186849750134, 0.5195673071986197, 0.46982951191150296]\n",
      "0.4 [0.7028109185937613, 0.5317779911929732, 0.4816287481053401]\n",
      "0.41 [0.7131980180549383, 0.5438427047775353, 0.49336049421486905]\n",
      "0.42 [0.7233713343735229, 0.5558623469704383, 0.5051079821157538]\n",
      "0.43 [0.7333033240117941, 0.5677638498249645, 0.5168060999667701]\n",
      "0.44 [0.743028578740182, 0.5796284280584134, 0.5284462093126944]\n",
      "0.45 [0.752533104760137, 0.5914318078062187, 0.5401002904539604]\n",
      "0.46 [0.7618295671475236, 0.6031584110325193, 0.551671260977808]\n",
      "0.47 [0.7708935545990344, 0.6147967861557926, 0.5632730461230101]\n",
      "0.48 [0.7797751818608302, 0.6263609368687676, 0.5747864577137382]\n",
      "0.49 [0.788483035813665, 0.637789799591257, 0.5862031515480649]\n"
     ]
    }
   ],
   "source": [
    "for perc in np.arange(0.05, 0.5, 0.01):\n",
    "    perc = round(perc, 2)\n",
    "    print(perc, paretoRatiosForPercentile(pos, perc))"
   ]
  },
  {
   "cell_type": "code",
   "execution_count": null,
   "id": "sophisticated-biography",
   "metadata": {},
   "outputs": [],
   "source": []
  }
 ],
 "metadata": {
  "interpreter": {
   "hash": "8124c299eb231f31c2add29327191d7472c70ab2095b4517a65bdbe70919c4a6"
  },
  "kernelspec": {
   "display_name": "Python 3.9.2 ('jp')",
   "language": "python",
   "name": "python3"
  },
  "language_info": {
   "codemirror_mode": {
    "name": "ipython",
    "version": 3
   },
   "file_extension": ".py",
   "mimetype": "text/x-python",
   "name": "python",
   "nbconvert_exporter": "python",
   "pygments_lexer": "ipython3",
   "version": "3.9.2"
  }
 },
 "nbformat": 4,
 "nbformat_minor": 5
}
